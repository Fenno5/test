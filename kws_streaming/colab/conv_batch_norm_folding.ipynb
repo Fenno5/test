{
 "cells": [
  {
   "cell_type": "markdown",
   "metadata": {},
   "source": [
    "Copyright 2019 Google LLC\n",
    "\n",
    "Licensed under the Apache License, Version 2.0 (the \"License\");\n",
    "you may not use this file except in compliance with the License.\n",
    "You may obtain a copy of the License at\n",
    "\n",
    "    https://www.apache.org/licenses/LICENSE-2.0\n",
    "\n",
    "Unless required by applicable law or agreed to in writing, software\n",
    "distributed under the License is distributed on an \"AS IS\" BASIS,\n",
    "WITHOUT WARRANTIES OR CONDITIONS OF ANY KIND, either express or implied.\n",
    "See the License for the specific language governing permissions and\n",
    "limitations under the License."
   ]
  },
  {
   "cell_type": "markdown",
   "metadata": {},
   "source": [
    "# Example of folding keras conv layer with batch norm"
   ]
  },
  {
   "cell_type": "markdown",
   "metadata": {},
   "source": [
    "## Imports"
   ]
  },
  {
   "cell_type": "code",
   "execution_count": 147,
   "metadata": {},
   "outputs": [],
   "source": [
    "import tensorflow as tf\n",
    "import numpy as np\n",
    "np.random.seed(123)"
   ]
  },
  {
   "cell_type": "markdown",
   "metadata": {},
   "source": [
    "## Model with convolution and batch norm layer definition"
   ]
  },
  {
   "cell_type": "code",
   "execution_count": 148,
   "metadata": {},
   "outputs": [
    {
     "name": "stdout",
     "output_type": "stream",
     "text": [
      "Model: \"functional_27\"\n",
      "_________________________________________________________________\n",
      "Layer (type)                 Output Shape              Param #   \n",
      "=================================================================\n",
      "input_18 (InputLayer)        [(4, 50, 32, 5)]          0         \n",
      "_________________________________________________________________\n",
      "conv2d_16 (Conv2D)           (4, 48, 30, 2)            92        \n",
      "_________________________________________________________________\n",
      "batch_normalization_13 (Batc (4, 48, 30, 2)            8         \n",
      "_________________________________________________________________\n",
      "re_lu_1 (ReLU)               (4, 48, 30, 2)            0         \n",
      "_________________________________________________________________\n",
      "flatten_14 (Flatten)         (4, 2880)                 0         \n",
      "=================================================================\n",
      "Total params: 100\n",
      "Trainable params: 96\n",
      "Non-trainable params: 4\n",
      "_________________________________________________________________\n"
     ]
    }
   ],
   "source": [
    "\n",
    "epsilon=0.001\n",
    "inputs = tf.keras.Input(shape=(50, 32, 5), batch_size=4)\n",
    "net = inputs\n",
    "net = tf.keras.layers.Conv2D(filters=2, kernel_size=(3,3))(net)\n",
    "net = tf.keras.layers.BatchNormalization(epsilon=epsilon)(net)\n",
    "net = tf.keras.layers.ReLU()(net)\n",
    "net = tf.keras.layers.Flatten()(net)\n",
    "model = tf.keras.Model(inputs, net)\n",
    "model.summary()"
   ]
  },
  {
   "cell_type": "code",
   "execution_count": 149,
   "metadata": {},
   "outputs": [
    {
     "data": {
      "text/plain": [
       "[<tensorflow.python.keras.engine.input_layer.InputLayer at 0x7f76b40d9cc0>,\n",
       " <tensorflow.python.keras.layers.convolutional.Conv2D at 0x7f76b40d9dd8>,\n",
       " <tensorflow.python.keras.layers.normalization_v2.BatchNormalization at 0x7f76b40db048>,\n",
       " <tensorflow.python.keras.layers.advanced_activations.ReLU at 0x7f76b40db7b8>,\n",
       " <tensorflow.python.keras.layers.core.Flatten at 0x7f76b40db470>]"
      ]
     },
     "execution_count": 149,
     "metadata": {},
     "output_type": "execute_result"
    }
   ],
   "source": [
    "model.layers"
   ]
  },
  {
   "cell_type": "markdown",
   "metadata": {},
   "source": [
    "## Initialize all model weights with random numbers"
   ]
  },
  {
   "cell_type": "code",
   "execution_count": 150,
   "metadata": {},
   "outputs": [],
   "source": [
    "# we will set all weights to randmom numbers so that even bias will be non zero \n",
    "# it will help to validated numerical correctness of conv and batch norm fusion\n",
    "all_weights = model.get_weights()\n",
    "for i in range(len(all_weights)):\n",
    "  all_weights[i] = np.random.random(all_weights[i].shape)\n",
    "model.set_weights(all_weights)"
   ]
  },
  {
   "cell_type": "markdown",
   "metadata": {},
   "source": [
    "## Dims of conv layer weights"
   ]
  },
  {
   "cell_type": "code",
   "execution_count": 151,
   "metadata": {},
   "outputs": [
    {
     "name": "stdout",
     "output_type": "stream",
     "text": [
      "conv weights shape (3, 3, 5, 2)\n",
      "conv bias shape (2,)\n"
     ]
    }
   ],
   "source": [
    "ind_conv_layer = 1\n",
    "assert(isinstance(model.layers[ind_conv_layer], tf.keras.layers.Conv2D))\n",
    "conv_weights = model.layers[ind_conv_layer].get_weights()\n",
    "print(\"conv weights shape \" + str(conv_weights[0].shape))\n",
    "print(\"conv bias shape \" + str(conv_weights[1].shape))"
   ]
  },
  {
   "cell_type": "markdown",
   "metadata": {},
   "source": [
    "## Dims of batch norm layer weights"
   ]
  },
  {
   "cell_type": "code",
   "execution_count": 152,
   "metadata": {},
   "outputs": [],
   "source": [
    "ind_batch_norm_layer = 2\n",
    "assert(isinstance(model.layers[ind_batch_norm_layer], tf.keras.layers.BatchNormalization))\n",
    "bn_weights = model.layers[ind_batch_norm_layer].get_weights()"
   ]
  },
  {
   "cell_type": "code",
   "execution_count": 153,
   "metadata": {},
   "outputs": [
    {
     "name": "stdout",
     "output_type": "stream",
     "text": [
      "gamma shape (2,)\n",
      "betta shape (2,)\n",
      "mean shape (2,)\n",
      "variance shape (2,)\n"
     ]
    }
   ],
   "source": [
    "gamma = bn_weights[0]\n",
    "print(\"gamma shape \" + str(gamma.shape))\n",
    "betta = bn_weights[1]\n",
    "print(\"betta shape \" + str(gamma.shape))\n",
    "mean = bn_weights[2]\n",
    "print(\"mean shape \" + str(gamma.shape))\n",
    "variance = bn_weights[3]\n",
    "print(\"variance shape \" + str(gamma.shape))"
   ]
  },
  {
   "cell_type": "markdown",
   "metadata": {},
   "source": [
    "## Fuse conv and batch norm weights"
   ]
  },
  {
   "cell_type": "code",
   "execution_count": 135,
   "metadata": {},
   "outputs": [],
   "source": [
    "new_conv_weights = np.multiply(conv_weights[0], gamma) / np.sqrt(variance + epsilon)\n",
    "new_bias = betta + np.multiply((conv_weights[1] - mean), gamma) / np.sqrt(variance + epsilon)"
   ]
  },
  {
   "cell_type": "markdown",
   "metadata": {},
   "source": [
    "## Model with folded/fused convolution and batch norm layers"
   ]
  },
  {
   "cell_type": "code",
   "execution_count": 136,
   "metadata": {},
   "outputs": [
    {
     "name": "stdout",
     "output_type": "stream",
     "text": [
      "Model: \"functional_25\"\n",
      "_________________________________________________________________\n",
      "Layer (type)                 Output Shape              Param #   \n",
      "=================================================================\n",
      "input_17 (InputLayer)        [(4, 50, 32, 5)]          0         \n",
      "_________________________________________________________________\n",
      "conv2d_15 (Conv2D)           (4, 48, 30, 2)            92        \n",
      "_________________________________________________________________\n",
      "flatten_13 (Flatten)         (4, 2880)                 0         \n",
      "=================================================================\n",
      "Total params: 92\n",
      "Trainable params: 92\n",
      "Non-trainable params: 0\n",
      "_________________________________________________________________\n"
     ]
    }
   ],
   "source": [
    "inputs = tf.keras.Input(shape=(50, 32, 5), batch_size=4)\n",
    "net = inputs\n",
    "net = tf.keras.layers.Conv2D(filters=2, kernel_size=(3,3))(net)\n",
    "net = tf.keras.layers.Flatten()(net)\n",
    "model_fused = tf.keras.Model(inputs, net)\n",
    "model_fused.summary()"
   ]
  },
  {
   "cell_type": "markdown",
   "metadata": {},
   "source": [
    "## Initialize model_fused with fused weights"
   ]
  },
  {
   "cell_type": "code",
   "execution_count": 142,
   "metadata": {},
   "outputs": [],
   "source": [
    "all_weights_fused = model_fused.get_weights()\n",
    "all_weights_fused[0] = new_conv_weights\n",
    "all_weights_fused[1] = new_bias\n",
    "model_fused.set_weights(all_weights_fused)"
   ]
  },
  {
   "cell_type": "markdown",
   "metadata": {},
   "source": [
    "## Validate that model and model_fused produce the same outputs"
   ]
  },
  {
   "cell_type": "code",
   "execution_count": 143,
   "metadata": {},
   "outputs": [],
   "source": [
    "input_data = np.random.random(inputs.shape)"
   ]
  },
  {
   "cell_type": "code",
   "execution_count": 144,
   "metadata": {},
   "outputs": [],
   "source": [
    "outputs = model.predict(input_data)"
   ]
  },
  {
   "cell_type": "code",
   "execution_count": 145,
   "metadata": {},
   "outputs": [],
   "source": [
    "outputs_fused = model_fused.predict(input_data)"
   ]
  },
  {
   "cell_type": "code",
   "execution_count": 146,
   "metadata": {},
   "outputs": [
    {
     "data": {
      "text/plain": [
       "True"
      ]
     },
     "execution_count": 146,
     "metadata": {},
     "output_type": "execute_result"
    }
   ],
   "source": [
    "np.allclose(outputs, outputs_fused)"
   ]
  }
 ],
 "metadata": {
  "kernelspec": {
   "display_name": "Python 3",
   "language": "python",
   "name": "python3"
  },
  "language_info": {
   "codemirror_mode": {
    "name": "ipython",
    "version": 3
   },
   "file_extension": ".py",
   "mimetype": "text/x-python",
   "name": "python",
   "nbconvert_exporter": "python",
   "pygments_lexer": "ipython3",
   "version": "3.6.9"
  }
 },
 "nbformat": 4,
 "nbformat_minor": 2
}
