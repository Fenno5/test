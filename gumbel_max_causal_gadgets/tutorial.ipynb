{
  "cells": [
    {
      "cell_type": "markdown",
      "metadata": {
        "id": "JndnmDMp66FL"
      },
      "source": [
        "##### Copyright 2021 Google LLC.\n",
        "\n",
        "Licensed under the Apache License, Version 2.0 (the \"License\");"
      ]
    },
    {
      "cell_type": "code",
      "execution_count": null,
      "metadata": {
        "id": "hMqWDc_m6rUC"
      },
      "outputs": [],
      "source": [
        "# Licensed under the Apache License, Version 2.0 (the \"License\");\n",
        "# you may not use this file except in compliance with the License.\n",
        "# You may obtain a copy of the License at\n",
        "#\n",
        "# https://www.apache.org/licenses/LICENSE-2.0\n",
        "#\n",
        "# Unless required by applicable law or agreed to in writing, software\n",
        "# distributed under the License is distributed on an \"AS IS\" BASIS,\n",
        "# WITHOUT WARRANTIES OR CONDITIONS OF ANY KIND, either express or implied.\n",
        "# See the License for the specific language governing permissions and\n",
        "# limitations under the License."
      ]
    },
    {
      "cell_type": "markdown",
      "metadata": {
        "id": "n8uMAcMvCrmN"
      },
      "source": [
        "# Generalized Gumbel-max causal mechanisms tutorial"
      ]
    },
    {
      "cell_type": "markdown",
      "metadata": {
        "id": "FDV72jCXCxr0"
      },
      "source": [
        "This notebook explains the APIs of the Gumbel-max causal mechanism implementation, along with those of our two gadgets."
      ]
    },
    {
      "cell_type": "markdown",
      "metadata": {
        "id": "UNnd2YesSAFr"
      },
      "source": [
        "[![Open In Colab](https://colab.research.google.com/assets/colab-badge.svg)](https://colab.research.google.com/github/google-research/google-research/blob/master/gumbel_max_causal_gadgets/tutorial.ipynb)"
      ]
    },
    {
      "cell_type": "markdown",
      "metadata": {
        "id": "Tr2Z0N-qSNz6"
      },
      "source": [
        "## Setting up the environment"
      ]
    },
    {
      "cell_type": "markdown",
      "metadata": {
        "id": "obGYeV4EUb61"
      },
      "source": [
        "These instructions are designed for running this tutorial using Google Colab; if you are using a different environment, the setup instructions may differ!\n",
        "\n",
        "If you want to follow along, the first step is to connect the Colab runtime to a TPU. You can use the \"Runtime \u003e Change runtime type\" option in the toolbar above. You can also stick with a CPU or GPU runtime, but this will be slower and you may have to adjust batch sizes.\n",
        "\n",
        "Next, install necessary dependencies:"
      ]
    },
    {
      "cell_type": "code",
      "execution_count": null,
      "metadata": {
        "colab": {
          "base_uri": "https://localhost:8080/"
        },
        "id": "_j6tXnzFn-s6",
        "outputId": "e8f42689-adca-4e5b-8ec4-5798022c5920"
      },
      "outputs": [
        {
          "name": "stdout",
          "output_type": "stream",
          "text": [
            "Cloning into 'google-research'...\n",
            "remote: Enumerating objects: 10043, done.\u001b[K\n",
            "remote: Counting objects: 100% (10043/10043), done.\u001b[K\n",
            "remote: Compressing objects: 100% (8038/8038), done.\u001b[K\n",
            "remote: Total 10043 (delta 1443), reused 7963 (delta 1209), pack-reused 0\u001b[K\n",
            "Receiving objects: 100% (10043/10043), 109.57 MiB | 21.79 MiB/s, done.\n",
            "Resolving deltas: 100% (1443/1443), done.\n",
            "Checking out files: 100% (10525/10525), done.\n"
          ]
        }
      ],
      "source": [
        "# Download the codebase\n",
        "!git clone https://github.com/google-research/google-research.git --depth=1"
      ]
    },
    {
      "cell_type": "code",
      "execution_count": null,
      "metadata": {
        "id": "NsacX7KEsp0D"
      },
      "outputs": [],
      "source": [
        "import os\n",
        "os.chdir(\"google-research\")"
      ]
    },
    {
      "cell_type": "code",
      "execution_count": null,
      "metadata": {
        "id": "AFH12ED4-5fU"
      },
      "outputs": [],
      "source": [
        "# Install Python packages\n",
        "!pip install flax optax"
      ]
    },
    {
      "cell_type": "markdown",
      "metadata": {
        "id": "1Tg58CmXVn7n"
      },
      "source": [
        "If you are using a TPU, make sure JAX can see it:"
      ]
    },
    {
      "cell_type": "code",
      "execution_count": null,
      "metadata": {
        "colab": {
          "base_uri": "https://localhost:8080/"
        },
        "id": "FArRxsRXT1LK",
        "outputId": "4c1cd77b-ef31-424b-b72c-b46d07e5cc39"
      },
      "outputs": [
        {
          "name": "stdout",
          "output_type": "stream",
          "text": [
            "grpc://10.48.40.138:8470\n"
          ]
        }
      ],
      "source": [
        "# See https://github.com/google/jax/blob/master/cloud_tpu_colabs/JAX_demo.ipynb\n",
        "import requests\n",
        "import os\n",
        "\n",
        "if 'COLAB_TPU_ADDR' not in os.environ:\n",
        "  raise RuntimeError(\"Please connect to a TPU runtime first!\")\n",
        "\n",
        "if 'TPU_DRIVER_MODE' not in globals():\n",
        "  url = 'http://' + os.environ['COLAB_TPU_ADDR'].split(':')[0] + ':8475/requestversion/tpu_driver_nightly'\n",
        "  resp = requests.post(url)\n",
        "  TPU_DRIVER_MODE = 1\n",
        "\n",
        "# Use TPU Driver as JAX's backend.\n",
        "from jax.config import config\n",
        "config.FLAGS.jax_xla_backend = \"tpu_driver\"\n",
        "config.FLAGS.jax_backend_target = \"grpc://\" + os.environ['COLAB_TPU_ADDR']\n",
        "print(config.FLAGS.jax_backend_target)"
      ]
    },
    {
      "cell_type": "code",
      "execution_count": null,
      "metadata": {
        "colab": {
          "base_uri": "https://localhost:8080/"
        },
        "id": "yBXGGg-9VxYT",
        "outputId": "d4afab41-c31e-405f-bb74-d715bd01bf88"
      },
      "outputs": [
        {
          "data": {
            "text/plain": [
              "[TpuDevice(id=0, host_id=0, coords=(0,0,0), core_on_chip=0),\n",
              " TpuDevice(id=1, host_id=0, coords=(0,0,0), core_on_chip=1),\n",
              " TpuDevice(id=2, host_id=0, coords=(1,0,0), core_on_chip=0),\n",
              " TpuDevice(id=3, host_id=0, coords=(1,0,0), core_on_chip=1),\n",
              " TpuDevice(id=4, host_id=0, coords=(0,1,0), core_on_chip=0),\n",
              " TpuDevice(id=5, host_id=0, coords=(0,1,0), core_on_chip=1),\n",
              " TpuDevice(id=6, host_id=0, coords=(1,1,0), core_on_chip=0),\n",
              " TpuDevice(id=7, host_id=0, coords=(1,1,0), core_on_chip=1)]"
            ]
          },
          "execution_count": 6,
          "metadata": {
            "tags": []
          },
          "output_type": "execute_result"
        }
      ],
      "source": [
        "import jax\n",
        "jax.devices()"
      ]
    },
    {
      "cell_type": "markdown",
      "metadata": {
        "id": "vW6Hw6pZrbFU"
      },
      "source": [
        "You should see 8 TPU devices connected above!"
      ]
    },
    {
      "cell_type": "markdown",
      "metadata": {
        "id": "QWHbsCIrmclj"
      },
      "source": [
        "## Imports and configuration"
      ]
    },
    {
      "cell_type": "code",
      "execution_count": null,
      "metadata": {
        "id": "Q1D5b0C0Dlb4"
      },
      "outputs": [],
      "source": [
        "import functools\n",
        "import time\n",
        "from typing import *\n",
        "\n",
        "import numpy as np\n",
        "import jax\n",
        "import jax.numpy as jnp\n",
        "import optax\n",
        "import flax\n",
        "import flax.linen as nn\n",
        "\n",
        "%matplotlib inline\n",
        "import matplotlib.pyplot as plt\n",
        "import matplotlib as mpl\n",
        "\n",
        "plt.ion()\n",
        "np.set_printoptions(linewidth=150)"
      ]
    },
    {
      "cell_type": "code",
      "execution_count": null,
      "metadata": {
        "id": "97l0VhKaNoxO"
      },
      "outputs": [],
      "source": [
        "from gumbel_max_causal_gadgets import coupling_util\n",
        "from gumbel_max_causal_gadgets import gadget_1\n",
        "from gumbel_max_causal_gadgets import gadget_2\n",
        "from gumbel_max_causal_gadgets import experiment_util"
      ]
    },
    {
      "cell_type": "markdown",
      "metadata": {
        "id": "DwymhgwqDNcl"
      },
      "source": [
        "## The Gumbel-max causal mechanism and Gumbel-max coupling"
      ]
    },
    {
      "cell_type": "markdown",
      "metadata": {
        "id": "PV4IedSWDiMx"
      },
      "source": [
        "We start with the Gumbel-max causal mechanism, as introduced in \"Counterfactual off-policy evaluation with Gumbel-max structural causal models\" [(Oberst and Sontag, 2019)](http://proceedings.mlr.press/v97/oberst19a.html).\n",
        "\n",
        "Suppose we wish to sample an observation $x$ from an interventional distribution $p(x | do(y)) \\propto \\exp l_x$, defined by a vector of logits $l \\in \\mathbb{R}^k$. We can do this by first sampling a vector of Gumbel(0) exogenous noise $\\gamma$, then shifting it by $l$ and taking the argmax:"
      ]
    },
    {
      "cell_type": "code",
      "execution_count": null,
      "metadata": {
        "id": "25eBIpVX__I6"
      },
      "outputs": [],
      "source": [
        "def sample_gumbel_max(rng, logits):\n",
        "  gumbels = jax.random.gumbel(rng, logits.shape)\n",
        "  x = jnp.argmax(gumbels + logits)\n",
        "  return x"
      ]
    },
    {
      "cell_type": "markdown",
      "metadata": {
        "id": "8zVCRb-EH0XT"
      },
      "source": [
        "If we wish to jointly sample two outcomes under two interventions, we can do so by passing two different logit vectors while re-using the same `gumbels`. Because `rng` determines the samples of Gumbels, we can do this by passing the same `rng` value:"
      ]
    },
    {
      "cell_type": "code",
      "execution_count": null,
      "metadata": {
        "executionInfo": {
          "elapsed": 5397,
          "status": "ok",
          "timestamp": 1633467222673,
          "user": {
            "displayName": "",
            "photoUrl": "",
            "userId": ""
          },
          "user_tz": 240
        },
        "id": "NsO9nX1yHz0D",
        "outputId": "daf5562b-484f-47fd-e795-7cee83f6e61a"
      },
      "outputs": [
        {
          "name": "stdout",
          "output_type": "stream",
          "text": [
            "p_probs [0.06120515 0.0676421  0.07475634 0.08261816 0.09130762 0.10091028 0.11152306 0.12325207 0.1362144  0.15054083]\n",
            "q_probs [0.15054086 0.13621445 0.12325212 0.11152306 0.10091028 0.09130762 0.08261816 0.07475635 0.06764212 0.06120515]\n"
          ]
        }
      ],
      "source": [
        "# Two fairly arbitrary logit vectors\n",
        "p_logits = 0.1 * jnp.arange(10) - (10 - 1.0) / 2\n",
        "q_logits = -p_logits\n",
        "p_logits = p_logits - jax.scipy.special.logsumexp(p_logits)\n",
        "q_logits = q_logits - jax.scipy.special.logsumexp(q_logits)\n",
        "print(\"p_probs\", jnp.exp(p_logits))\n",
        "print(\"q_probs\", jnp.exp(q_logits))"
      ]
    },
    {
      "cell_type": "code",
      "execution_count": null,
      "metadata": {
        "executionInfo": {
          "elapsed": 436,
          "status": "ok",
          "timestamp": 1633467223922,
          "user": {
            "displayName": "",
            "photoUrl": "",
            "userId": ""
          },
          "user_tz": 240
        },
        "id": "XqXur9ZlInGX",
        "outputId": "21136fda-e310-4571-e954-22b8da75b4f6"
      },
      "outputs": [
        {
          "name": "stdout",
          "output_type": "stream",
          "text": [
            "p_samples [9, 5, 2, 2, 2, 1, 4, 9, 7, 1]\n",
            "q_samples [0, 5, 2, 2, 2, 0, 0, 9, 7, 1]\n"
          ]
        }
      ],
      "source": [
        "keys = jax.random.split(jax.random.PRNGKey(42), 10)\n",
        "p_samples = []\n",
        "q_samples = []\n",
        "for prng_key in keys:\n",
        "  p_samples.append(int(sample_gumbel_max(prng_key, p_logits)))\n",
        "  q_samples.append(int(sample_gumbel_max(prng_key, q_logits)))\n",
        "\n",
        "print(\"p_samples\", p_samples)\n",
        "print(\"q_samples\", q_samples)"
      ]
    },
    {
      "cell_type": "markdown",
      "metadata": {
        "id": "QI92fupoJOgZ"
      },
      "source": [
        "Note that the samples from $p$ and $q$ are the same more often than they would be if we drew them independently. This is because they share the same exogenous noise, and only have different interventional distributions. We can repeat this for a larger number of samples to visualize the resulting *Gumbel-max coupling* between $p$ and $q$:"
      ]
    },
    {
      "cell_type": "code",
      "execution_count": null,
      "metadata": {
        "colab": {
          "height": 283
        },
        "executionInfo": {
          "elapsed": 2151,
          "status": "ok",
          "timestamp": 1633467226306,
          "user": {
            "displayName": "",
            "photoUrl": "",
            "userId": ""
          },
          "user_tz": 240
        },
        "id": "O9ikmsZMJHKD",
        "outputId": "30cd2b32-95f7-4ae6-b206-c7e61d7bb01b"
      },
      "outputs": [
        {
          "data": {
            "text/plain": [
              "\u003cmatplotlib.colorbar.Colorbar at 0x7f7d1d692650\u003e"
            ]
          },
          "execution_count": 7,
          "metadata": {},
          "output_type": "execute_result"
        },
        {
          "data": {
            "image/png": "[encoded data removed]",
            "text/plain": [
              "\u003cFigure size 600x400 with 2 Axes\u003e"
            ]
          },
          "metadata": {},
          "output_type": "display_data"
        }
      ],
      "source": [
        "gm_coupling_p_q = coupling_util.joint_from_samples(\n",
        "    coupling_util.gumbel_max_sampler,\n",
        "    logits_1=p_logits,\n",
        "    logits_2=q_logits,\n",
        "    rng=jax.random.PRNGKey(42),\n",
        "    num_samples=100_000)\n",
        "plt.imshow(gm_coupling_p_q, vmin=0)\n",
        "plt.colorbar()"
      ]
    },
    {
      "cell_type": "markdown",
      "metadata": {
        "id": "U-FGD1BdOQL4"
      },
      "source": [
        "### The Gumbel-max coupling v.s. a maximal coupling"
      ]
    },
    {
      "cell_type": "markdown",
      "metadata": {
        "id": "tCvj0yDzKTzE"
      },
      "source": [
        "Notice that a lot of mass is on the diagonal. We might wonder if the diagonal contains as much mass as possible, e.g. is this a maximal coupling? However, as we show in Section 4, the answer is no.\n",
        "\n",
        "For comparison, we can construct a maximal coupling (which does not correspond to a causal mechanism, but is instead defined directly with respect to `p_logits` and `q_logits`):"
      ]
    },
    {
      "cell_type": "code",
      "execution_count": null,
      "metadata": {
        "colab": {
          "height": 283
        },
        "executionInfo": {
          "elapsed": 3233,
          "status": "ok",
          "timestamp": 1633467230452,
          "user": {
            "displayName": "",
            "photoUrl": "",
            "userId": ""
          },
          "user_tz": 240
        },
        "id": "f081v2USKDZS",
        "outputId": "cb900fa1-ad6a-4fa5-cf58-4c626ffcad35"
      },
      "outputs": [
        {
          "data": {
            "text/plain": [
              "\u003cmatplotlib.colorbar.Colorbar at 0x7f7d1d4ce250\u003e"
            ]
          },
          "execution_count": 8,
          "metadata": {},
          "output_type": "execute_result"
        },
        {
          "data": {
            "image/png": "[encoded data removed]",
            "text/plain": [
              "\u003cFigure size 600x400 with 2 Axes\u003e"
            ]
          },
          "metadata": {},
          "output_type": "display_data"
        }
      ],
      "source": [
        "maximal_coupling_p_q = coupling_util.joint_from_samples(\n",
        "    coupling_util.maximal_coupling_sampler,\n",
        "    logits_1=p_logits,\n",
        "    logits_2=q_logits,\n",
        "    rng=jax.random.PRNGKey(42),\n",
        "    num_samples=100_000)\n",
        "plt.imshow(maximal_coupling_p_q, vmin=0)\n",
        "plt.colorbar()"
      ]
    },
    {
      "cell_type": "markdown",
      "metadata": {
        "id": "biN_LgVmNrdM"
      },
      "source": [
        "We can plot the difference between the two, which reveals that the Gumbel-max sampler assigns less mass to the diagonal, and more mass to the off diagonal elements."
      ]
    },
    {
      "cell_type": "code",
      "execution_count": null,
      "metadata": {
        "colab": {
          "height": 283
        },
        "executionInfo": {
          "elapsed": 413,
          "status": "ok",
          "timestamp": 1633467232651,
          "user": {
            "displayName": "",
            "photoUrl": "",
            "userId": ""
          },
          "user_tz": 240
        },
        "id": "YK_JgAsUMxyo",
        "outputId": "8f343b4e-edd7-4ba9-ec8d-12301066a5c4"
      },
      "outputs": [
        {
          "data": {
            "text/plain": [
              "\u003cmatplotlib.colorbar.Colorbar at 0x7f7d1d611390\u003e"
            ]
          },
          "execution_count": 9,
          "metadata": {},
          "output_type": "execute_result"
        },
        {
          "data": {
            "image/png": "[encoded data removed]",
            "text/plain": [
              "\u003cFigure size 600x400 with 2 Axes\u003e"
            ]
          },
          "metadata": {},
          "output_type": "display_data"
        }
      ],
      "source": [
        "difference = gm_coupling_p_q - maximal_coupling_p_q\n",
        "plt.imshow(difference, vmin=-0.016, vmax=0.016, cmap=\"RdBu\")\n",
        "plt.colorbar()"
      ]
    },
    {
      "cell_type": "markdown",
      "metadata": {
        "id": "acU5L0pDOUW9"
      },
      "source": [
        "### Using the Gumbel-max SCM to sample counterfactuals"
      ]
    },
    {
      "cell_type": "markdown",
      "metadata": {
        "id": "dR1AyEY8OlVz"
      },
      "source": [
        "We can use the top-down sampling algorithm [(Maddison et al. [2014])](https://arxiv.org/abs/1411.0030) to answer counterfactual queries: given that we observed $x^{(obs)}$ under `p_logits`, what would we have observed under `q_logits`?\n",
        "\n",
        "The key insight is that the maximum value and the argmax are independent for a set of independent shifted Gumbels (as explained [here](https://cmaddis.github.io/gumbel-machinery)). $x^{(obs)}$ is the argmax, so we can sample the exogenous noise by sampling the max, then filling in the rest."
      ]
    },
    {
      "cell_type": "code",
      "execution_count": null,
      "metadata": {
        "colab": {
          "height": 103
        },
        "executionInfo": {
          "elapsed": 1220,
          "status": "ok",
          "timestamp": 1633467234461,
          "user": {
            "displayName": "",
            "photoUrl": "",
            "userId": ""
          },
          "user_tz": 240
        },
        "id": "OOAU-pcPNlvX",
        "outputId": "c0c456ec-668b-43e6-ff7b-9b6d6643b5b9"
      },
      "outputs": [
        {
          "data": {
            "text/plain": [
              "\u003cmatplotlib.image.AxesImage at 0x7f7d1c057b90\u003e"
            ]
          },
          "execution_count": 10,
          "metadata": {},
          "output_type": "execute_result"
        },
        {
          "data": {
            "image/png": "[encoded data removed]",
            "text/plain": [
              "\u003cFigure size 600x400 with 1 Axes\u003e"
            ]
          },
          "metadata": {},
          "output_type": "display_data"
        }
      ],
      "source": [
        "x_obs = 7  # for example\n",
        "rng = jax.random.PRNGKey(1234)\n",
        "\n",
        "# Use jax.vmap to draw many samples\n",
        "def sample_one(key):\n",
        "  gumbels = coupling_util.counterfactual_gumbels(p_logits, x_obs, key)\n",
        "  y_for_q = jnp.argmax(gumbels + q_logits)\n",
        "  return jnp.zeros([10]).at[y_for_q].set(1.)\n",
        "\n",
        "counterfactual_y = jnp.mean(jax.vmap(sample_one)(jax.random.split(rng, 1000)), axis=0)\n",
        "plt.imshow(counterfactual_y[None, :], vmin=0)"
      ]
    },
    {
      "cell_type": "markdown",
      "metadata": {
        "id": "FkB3rq37SlYM"
      },
      "source": [
        "This is equivalent to sampling only within a single row (row 7) of the coupling matrix in the previous section.\n",
        "\n",
        "The key property that makes this useful for counterfactual inference is that it works for any `x_obs`, even one that we did not sample using our mechanism, as long as the value of `x_obs` can be viewed as a sample from the distribution given by `p_logits`. Thus, it can be used to infer counterfactual distributions for data collected offline by interacting with the real world, as described by Oberst and Sontag (2017)."
      ]
    },
    {
      "cell_type": "markdown",
      "metadata": {
        "id": "mKkBEHX9dgCe"
      },
      "source": [
        "## Inverse-CDF couplings and monotonicity\n",
        "\n"
      ]
    },
    {
      "cell_type": "markdown",
      "metadata": {
        "id": "f4uujY72dpWu"
      },
      "source": [
        "Another interesting class of coupling is the \"inverse CDF\" causal mechanism and resulting coupling. If we define an order on the outcomes, we can use this to construct the cumulative distribution function, or CDF, for any particular logit vector $l$. It turns out that inverting the CDF and evaluating it at a sample of uniform random noise will produce a sample from the desired distribution."
      ]
    },
    {
      "cell_type": "code",
      "execution_count": null,
      "metadata": {
        "colab": {
          "height": 283
        },
        "executionInfo": {
          "elapsed": 60,
          "status": "ok",
          "timestamp": 1633467235989,
          "user": {
            "displayName": "",
            "photoUrl": "",
            "userId": ""
          },
          "user_tz": 240
        },
        "id": "mNB6vPWreMt3",
        "outputId": "746b8042-a1fb-44b1-9abc-0db70610e6b4"
      },
      "outputs": [
        {
          "data": {
            "text/plain": [
              "\u003cmatplotlib.colorbar.Colorbar at 0x7f7d1bfdba10\u003e"
            ]
          },
          "execution_count": 11,
          "metadata": {},
          "output_type": "execute_result"
        },
        {
          "data": {
            "image/png": "[encoded data removed]",
            "text/plain": [
              "\u003cFigure size 600x400 with 2 Axes\u003e"
            ]
          },
          "metadata": {},
          "output_type": "display_data"
        }
      ],
      "source": [
        "inverse_cdf_p_q = coupling_util.inverse_cdf_coupling(\n",
        "    logits_1=p_logits,\n",
        "    logits_2=q_logits)\n",
        "plt.imshow(inverse_cdf_p_q, vmin=0)\n",
        "plt.colorbar()"
      ]
    },
    {
      "cell_type": "markdown",
      "metadata": {
        "id": "IMBhKc0HeUkZ"
      },
      "source": [
        "As we discuss in Section 2, if we are interested in measuring a difference of costs with minimum variance, and each cost function is monotonic with respect to this ordering, it turns out that this coupling will always minimize the variance. However, this is only possible if we know the ordering in advance while building our causal mechanism. If we use a different order, we destroy this structure."
      ]
    },
    {
      "cell_type": "code",
      "execution_count": null,
      "metadata": {
        "colab": {
          "height": 283
        },
        "executionInfo": {
          "elapsed": 841,
          "status": "ok",
          "timestamp": 1633467237541,
          "user": {
            "displayName": "",
            "photoUrl": "",
            "userId": ""
          },
          "user_tz": 240
        },
        "id": "5OZFg4uJe34X",
        "outputId": "7b87aedd-66be-4c22-a2e9-d77a9c324135"
      },
      "outputs": [
        {
          "data": {
            "text/plain": [
              "\u003cmatplotlib.colorbar.Colorbar at 0x7f7d1bef4550\u003e"
            ]
          },
          "execution_count": 12,
          "metadata": {},
          "output_type": "execute_result"
        },
        {
          "data": {
            "image/png": "[encoded data removed]",
            "text/plain": [
              "\u003cFigure size 600x400 with 2 Axes\u003e"
            ]
          },
          "metadata": {},
          "output_type": "display_data"
        }
      ],
      "source": [
        "perm_inverse_cdf_p_q = coupling_util.permuted_inverse_cdf_coupling(\n",
        "    logits_1=p_logits,\n",
        "    logits_2=q_logits,\n",
        "    permutation_seed=1)\n",
        "plt.imshow(perm_inverse_cdf_p_q, vmin=0)\n",
        "plt.colorbar()"
      ]
    },
    {
      "cell_type": "markdown",
      "metadata": {
        "id": "TlgABLbQfDSG"
      },
      "source": [
        "## Independent couplings"
      ]
    },
    {
      "cell_type": "markdown",
      "metadata": {
        "id": "nVlR1vSyfFeq"
      },
      "source": [
        "One other class of couplings that we compare against is the independent coupling, which implies that $p(x)$ and $q(y)$ have nothing in common. From a causal perspective, this corresponds to a situation where the outcome for an observation tells you nothing at all about what the outcome would have been for some other counterfactual intervention."
      ]
    },
    {
      "cell_type": "code",
      "execution_count": null,
      "metadata": {
        "colab": {
          "height": 283
        },
        "executionInfo": {
          "elapsed": 292,
          "status": "ok",
          "timestamp": 1633467238934,
          "user": {
            "displayName": "",
            "photoUrl": "",
            "userId": ""
          },
          "user_tz": 240
        },
        "id": "0FjGrh_XfEiW",
        "outputId": "1da6354d-b151-463a-cf50-9c1fa8d44d48"
      },
      "outputs": [
        {
          "data": {
            "text/plain": [
              "\u003cmatplotlib.colorbar.Colorbar at 0x7f7d1be562d0\u003e"
            ]
          },
          "execution_count": 13,
          "metadata": {},
          "output_type": "execute_result"
        },
        {
          "data": {
            "image/png": "[encoded data removed]",
            "text/plain": [
              "\u003cFigure size 600x400 with 2 Axes\u003e"
            ]
          },
          "metadata": {},
          "output_type": "display_data"
        }
      ],
      "source": [
        "independent_pq = coupling_util.independent_coupling(\n",
        "    logits_1=p_logits,\n",
        "    logits_2=q_logits)\n",
        "plt.imshow(independent_pq, vmin=0)\n",
        "plt.colorbar()"
      ]
    },
    {
      "cell_type": "markdown",
      "metadata": {
        "id": "0aYYUWF2StmY"
      },
      "source": [
        "## Gadget 1 and Gadget 2"
      ]
    },
    {
      "cell_type": "markdown",
      "metadata": {
        "id": "lLpQIZ3XT3wj"
      },
      "source": [
        "We now show how to use our learnable \"gadgets\" to define couplings and to draw samples from a counterfactual.\n",
        "\n",
        "As discussed in Section 5.1, Gadget 1 deviates from a normal SCM in that the exogenous noise is not shared exactly between the \"observed\" and \"counterfactual\" samples. In particular, sampling from a counterfactual distribution requires transposing the matrix of Gumbels, and thus requires designating one of the interventions as the non-transposed original and the other as the transposed counterfactual.\n",
        "\n",
        "Gadget 2, on the other hand, satisfies the normal requirements of an SCM, and uses the same exogenous noise across all possible interventions. This means that it can be used in the same set of situations as the Gumbel-max SCM."
      ]
    },
    {
      "cell_type": "markdown",
      "metadata": {
        "id": "hX7dqgEIXAd8"
      },
      "source": [
        "Both gadgets are implemented as `flax` modules, which separate the definition of the model class $\\{f_\\theta\\}_{\\theta \\in \\Theta}$ from the specific value of the parameters $\\theta$. We can instantiate each model class by specifying all of the necessary hyperparameters. For instance:"
      ]
    },
    {
      "cell_type": "code",
      "execution_count": null,
      "metadata": {
        "id": "XHSIMRWoR_-E"
      },
      "outputs": [],
      "source": [
        "# S_dim is the number of outcomes for our distribution of interest.\n",
        "gadget_1_def = gadget_1.GadgetOneMLPPredictor(\n",
        "    S_dim=10, hidden_features=[1024, 1024],\n",
        "    relaxation_temperature=1.0)\n",
        "\n",
        "# Gadget 2 also requires Z_dim, the space of the latent auxiliary variable.\n",
        "gadget_2_def = gadget_2.GadgetTwoMLPPredictor(\n",
        "    S_dim=10, Z_dim=100, hidden_features=[1024, 1024],\n",
        "    relaxation_temperature=1.0, learn_prior=False)"
      ]
    },
    {
      "cell_type": "markdown",
      "metadata": {
        "id": "o9_LiFFPYKUE"
      },
      "source": [
        "To use them to draw samples, we must pick a particular value for $\\theta$. We can start by randomly initializing each:"
      ]
    },
    {
      "cell_type": "code",
      "execution_count": null,
      "metadata": {
        "executionInfo": {
          "elapsed": 3908,
          "status": "ok",
          "timestamp": 1633467244448,
          "user": {
            "displayName": "",
            "photoUrl": "",
            "userId": ""
          },
          "user_tz": 240
        },
        "id": "3X29TDQDYERV",
        "outputId": "237ac602-274c-45ce-f054-efe56d14285e"
      },
      "outputs": [
        {
          "name": "stdout",
          "output_type": "stream",
          "text": [
            "Gadget 1:\n",
            "FrozenDict({\n",
            "    params: {\n",
            "        hidden_layers_0: {\n",
            "            bias: 'dtype=float32 shape=(1024,) values=[0. 0. 0. 0.]...',\n",
            "            kernel: 'dtype=float32 shape=(10, 1024) values=[-0.15586396  0.5272869   0.4646582  -0.02859419]...',\n",
            "        },\n",
            "        hidden_layers_1: {\n",
            "            bias: 'dtype=float32 shape=(1024,) values=[0. 0. 0. 0.]...',\n",
            "            kernel: 'dtype=float32 shape=(1024, 1024) values=[-0.06402664  0.04275425  0.02152653  0.04715597]...',\n",
            "        },\n",
            "        output_layer: {\n",
            "            bias: 'dtype=float32 shape=(10, 10) values=[0. 0. 0. 0.]...',\n",
            "            kernel: 'dtype=float32 shape=(1024, 10, 10) values=[-0.05078484 -0.00499428 -0.03920213  0.02491564]...',\n",
            "        },\n",
            "    },\n",
            "})\n",
            "Gadget 2:\n",
            "FrozenDict({\n",
            "    params: {\n",
            "        hidden_layers_0: {\n",
            "            bias: 'dtype=float32 shape=(1024,) values=[0. 0. 0. 0.]...',\n",
            "            kernel: 'dtype=float32 shape=(10, 1024) values=[-0.33588853  0.00931741  0.5640103  -0.3365479 ]...',\n",
            "        },\n",
            "        hidden_layers_1: {\n",
            "            bias: 'dtype=float32 shape=(1024,) values=[0. 0. 0. 0.]...',\n",
            "            kernel: 'dtype=float32 shape=(1024, 1024) values=[-0.00269697  0.03676961 -0.0113255  -0.0354147 ]...',\n",
            "        },\n",
            "        output_layer: {\n",
            "            bias: 'dtype=float32 shape=(100, 10) values=[0. 0. 0. 0.]...',\n",
            "            kernel: 'dtype=float32 shape=(1024, 100, 10) values=[ 0.01256978 -0.00283486 -0.01371074 -0.02073335]...',\n",
            "        },\n",
            "    },\n",
            "})\n"
          ]
        }
      ],
      "source": [
        "init_key = jax.random.PRNGKey(1001)\n",
        "gadget_1_theta = gadget_1_def.init(init_key, jnp.zeros([gadget_1_def.S_dim]))\n",
        "\n",
        "init_key = jax.random.PRNGKey(1002)\n",
        "gadget_2_theta = gadget_2_def.init(init_key, jnp.zeros([gadget_2_def.S_dim]))\n",
        "\n",
        "# Summarize the shape of each parameter tree:\n",
        "print(\"Gadget 1:\")\n",
        "print(jax.tree_map(lambda x: f\"dtype={x.dtype} shape={x.shape} values={x.reshape([-1])[:4]}...\", gadget_1_theta))\n",
        "print(\"Gadget 2:\")\n",
        "print(jax.tree_map(lambda x: f\"dtype={x.dtype} shape={x.shape} values={x.reshape([-1])[:4]}...\", gadget_2_theta))"
      ]
    },
    {
      "cell_type": "markdown",
      "metadata": {
        "id": "z7EkURiaZSdz"
      },
      "source": [
        "We can also bind a particular value of $\\theta$ to each model definition to obtain a concrete mechanism $f_\\theta$. (This is only recommended for interactive use cases, such as this notebook. If you want to learn $\\theta$, it's better to keep the two separate. See the [flax documentation](https://flax.readthedocs.io/en/latest/notebooks/flax_basics.html) for more details on using flax.)"
      ]
    },
    {
      "cell_type": "code",
      "execution_count": null,
      "metadata": {
        "id": "pzIYrUC_YFYb"
      },
      "outputs": [],
      "source": [
        "gadget_1_at_init = gadget_1_def.bind(gadget_1_theta)\n",
        "gadget_2_at_init = gadget_2_def.bind(gadget_2_theta)"
      ]
    },
    {
      "cell_type": "markdown",
      "metadata": {
        "id": "wnKpasOTklYg"
      },
      "source": [
        "### Sampling from the gadgets"
      ]
    },
    {
      "cell_type": "markdown",
      "metadata": {
        "id": "9QMn6ZmKZ-0X"
      },
      "source": [
        "Given a bound gadget, we can draw samples similarly to Gumbel-max. Each gadget defines a method `sample`, which can be used to draw samples according to their structural causal model. Just like for Gumbel-max, using the same random number generator for two different logit vectors produces coupled interventions. However, as noted before, Gadget 1 requires passing a special `transpose` argument when sampling the second logit vector."
      ]
    },
    {
      "cell_type": "code",
      "execution_count": null,
      "metadata": {
        "executionInfo": {
          "elapsed": 8225,
          "status": "ok",
          "timestamp": 1633467253232,
          "user": {
            "displayName": "",
            "photoUrl": "",
            "userId": ""
          },
          "user_tz": 240
        },
        "id": "8tmJCr0jZ95b",
        "outputId": "29ff538f-038a-469b-e919-6b127f8b7c52"
      },
      "outputs": [
        {
          "name": "stdout",
          "output_type": "stream",
          "text": [
            "g1_p_samples [2, 1, 2, 6, 1, 1, 3, 4, 9, 2, 7, 4, 8, 5, 0, 6, 2, 9, 5, 4]\n",
            "g1_q_samples [8, 5, 8, 6, 5, 4, 9, 1, 4, 0, 6, 1, 2, 1, 7, 2, 2, 2, 6, 5]\n",
            "\n",
            "g2_p_samples [4, 0, 8, 7, 6, 0, 7, 3, 6, 6, 2, 1, 7, 7, 2, 4, 6, 3, 2, 8]\n",
            "g2_q_samples [4, 0, 1, 7, 1, 0, 1, 3, 1, 6, 2, 1, 2, 2, 2, 4, 6, 3, 2, 1]\n"
          ]
        }
      ],
      "source": [
        "keys = jax.random.split(jax.random.PRNGKey(42), 20)\n",
        "g1_p_samples = []\n",
        "g1_q_samples = []\n",
        "g2_p_samples = []\n",
        "g2_q_samples = []\n",
        "for prng_key in keys:\n",
        "  # Gadget 1\n",
        "  g1_p_samples.append(int(gadget_1_at_init.sample(p_logits, prng_key)))\n",
        "  g1_q_samples.append(int(gadget_1_at_init.sample(q_logits, prng_key, transpose=True)))\n",
        "  # Gadget 2\n",
        "  g2_p_samples.append(int(gadget_2_at_init.sample(p_logits, prng_key)))\n",
        "  g2_q_samples.append(int(gadget_2_at_init.sample(q_logits, prng_key)))\n",
        "\n",
        "print(\"g1_p_samples\", g1_p_samples)\n",
        "print(\"g1_q_samples\", g1_q_samples)\n",
        "print()\n",
        "print(\"g2_p_samples\", g2_p_samples)\n",
        "print(\"g2_q_samples\", g2_q_samples)"
      ]
    },
    {
      "cell_type": "code",
      "execution_count": null,
      "metadata": {
        "colab": {
          "height": 369
        },
        "executionInfo": {
          "elapsed": 5191,
          "status": "ok",
          "timestamp": 1633467258535,
          "user": {
            "displayName": "",
            "photoUrl": "",
            "userId": ""
          },
          "user_tz": 240
        },
        "id": "grMxLIavfsN6",
        "outputId": "1b30358e-f6b1-45bc-90ee-78b61dc5de07"
      },
      "outputs": [
        {
          "data": {
            "text/plain": [
              "\u003cmatplotlib.image.AxesImage at 0x7f7d1b4b1150\u003e"
            ]
          },
          "execution_count": 18,
          "metadata": {},
          "output_type": "execute_result"
        },
        {
          "data": {
            "image/png": "[encoded data removed]",
            "text/plain": [
              "\u003cFigure size 1200x600 with 2 Axes\u003e"
            ]
          },
          "metadata": {},
          "output_type": "display_data"
        }
      ],
      "source": [
        "g1_init_pq = coupling_util.joint_from_samples(\n",
        "    coupling_util.sampler_from_common_random_numbers(gadget_1_at_init.sample, second_kwargs={\"transpose\": True}),\n",
        "    logits_1=p_logits,\n",
        "    logits_2=q_logits,\n",
        "    rng=jax.random.PRNGKey(42),\n",
        "    num_samples=100_000)\n",
        "g2_init_pq = coupling_util.joint_from_samples(\n",
        "    coupling_util.sampler_from_common_random_numbers(gadget_2_at_init.sample),\n",
        "    logits_1=p_logits,\n",
        "    logits_2=q_logits,\n",
        "    rng=jax.random.PRNGKey(42),\n",
        "    num_samples=100_000)\n",
        "\n",
        "_, axs = plt.subplots(ncols=2, figsize=(12,6))\n",
        "axs[0].imshow(g1_init_pq, vmin=0)\n",
        "axs[1].imshow(g2_init_pq, vmin=0)"
      ]
    },
    {
      "cell_type": "markdown",
      "metadata": {
        "id": "mHnralYtcaTW"
      },
      "source": [
        "(Note: Gadget 2, even at initialization, has similar behavior to Gumbel-max, in that it tends to produce samples that are the same across $p$ and $q$. Gadget 1, on the other hand, often draws distinct samples at initialization, because the exogenous noise is transposed.)"
      ]
    },
    {
      "cell_type": "markdown",
      "metadata": {
        "id": "4T06poU2ktUg"
      },
      "source": [
        "### Drawing counterfactual samples"
      ]
    },
    {
      "cell_type": "markdown",
      "metadata": {
        "id": "7KFb_eprku7Y"
      },
      "source": [
        "Each gadget also provides a method `gadget.counterfactual_sample(p_logits, q_logits, p_observed, rng)`. This method serves a similar role as the counterfactual sampling for Gumbel-max SCMs: it allows us to draw a sample from the counterfactual distribution `q_logits`, conditioned on a particular observation from `p_logits`."
      ]
    },
    {
      "cell_type": "code",
      "execution_count": null,
      "metadata": {
        "colab": {
          "height": 221
        },
        "executionInfo": {
          "elapsed": 1985,
          "status": "ok",
          "timestamp": 1633467261237,
          "user": {
            "displayName": "",
            "photoUrl": "",
            "userId": ""
          },
          "user_tz": 240
        },
        "id": "aSKW3xTHlShl",
        "outputId": "53993adb-6aac-4b48-d31f-009ec11bbb94"
      },
      "outputs": [
        {
          "data": {
            "text/plain": [
              "\u003cmatplotlib.image.AxesImage at 0x7f7d1b460090\u003e"
            ]
          },
          "execution_count": 19,
          "metadata": {},
          "output_type": "execute_result"
        },
        {
          "data": {
            "image/png": "[encoded data removed]",
            "text/plain": [
              "\u003cFigure size 600x400 with 2 Axes\u003e"
            ]
          },
          "metadata": {},
          "output_type": "display_data"
        }
      ],
      "source": [
        "x_obs = 7  # for example\n",
        "rng = jax.random.PRNGKey(1234)\n",
        "\n",
        "def sample_ctf_gadgets(key):\n",
        "  y_from_gadget_1 = gadget_1_at_init.counterfactual_sample(p_logits, q_logits, x_obs, key)\n",
        "  y_from_gadget_2 = gadget_2_at_init.counterfactual_sample(p_logits, q_logits, x_obs, key)\n",
        "  return (\n",
        "      jnp.zeros([10]).at[y_from_gadget_1].set(1.),\n",
        "      jnp.zeros([10]).at[y_from_gadget_2].set(1.),\n",
        "  )\n",
        "\n",
        "from_p, from_q = jax.vmap(sample_ctf_gadgets)(jax.random.split(rng, 1000))\n",
        "from_p = jnp.mean(from_p, axis=0)\n",
        "from_q = jnp.mean(from_q, axis=0)\n",
        "_, axs = plt.subplots(nrows=2)\n",
        "axs[0].imshow(from_p[None, :], vmin=0)\n",
        "axs[1].imshow(from_q[None, :], vmin=0)"
      ]
    },
    {
      "cell_type": "markdown",
      "metadata": {
        "id": "1vo9-V1al-mq"
      },
      "source": [
        "As before, these correspond to the 7th row of the full joint distribution shown in the previous section."
      ]
    },
    {
      "cell_type": "markdown",
      "metadata": {
        "id": "cSr_Jeuskoit"
      },
      "source": [
        "### Sampling differentiable continuous relaxations"
      ]
    },
    {
      "cell_type": "markdown",
      "metadata": {
        "id": "ESIlao02cy6s"
      },
      "source": [
        "To train the gadgets, we additionally provide a method `relaxed_sample`, which continuously relaxes the Gumbel-max operations inside each gadget to instead be Gumbel-softmax operations. The default temperature is specified when initializing the gadget, and determines the tradeoff between higher gradient variance and more gradient bias.\n",
        "\n",
        "Below, we compare the discrete samples with their continuously relaxed counterparts, where each row is a new sample. Note that the discrete sample is always the same as the position of the maximum in the continuous version."
      ]
    },
    {
      "cell_type": "code",
      "execution_count": null,
      "metadata": {
        "colab": {
          "height": 247
        },
        "executionInfo": {
          "elapsed": 2024,
          "status": "ok",
          "timestamp": 1633467263429,
          "user": {
            "displayName": "",
            "photoUrl": "",
            "userId": ""
          },
          "user_tz": 240
        },
        "id": "WkzzWMELbz8z",
        "outputId": "ac2d1188-0da8-411a-c7b4-38bbd2f9c987"
      },
      "outputs": [
        {
          "data": {
            "text/plain": [
              "\u003cmatplotlib.image.AxesImage at 0x7f7d1b1d5190\u003e"
            ]
          },
          "execution_count": 20,
          "metadata": {},
          "output_type": "execute_result"
        },
        {
          "data": {
            "image/png": "[encoded data removed]",
            "text/plain": [
              "\u003cFigure size 1000x400 with 4 Axes\u003e"
            ]
          },
          "metadata": {},
          "output_type": "display_data"
        }
      ],
      "source": [
        "def draw_relaxed_from_p(key):\n",
        "  k1, k2 = jax.random.split(key)\n",
        "  return (\n",
        "      jnp.zeros([10]).at[gadget_1_at_init.sample(p_logits, k1)].set(1),\n",
        "      gadget_1_at_init.sample_relaxed(p_logits, k1),\n",
        "      jnp.zeros([10]).at[gadget_2_at_init.sample(p_logits, k2)].set(1),\n",
        "      gadget_2_at_init.sample_relaxed(p_logits, k2),\n",
        "  )\n",
        "\n",
        "g1_samples, g1_relaxed_samples, g2_samples, g2_relaxed_samples = jax.vmap(draw_relaxed_from_p)(jax.random.split(jax.random.PRNGKey(3), 15))\n",
        "\n",
        "_, axs = plt.subplots(ncols=4, figsize=(10,4))\n",
        "axs[0].imshow(g1_samples, vmin=0)\n",
        "axs[1].imshow(g1_relaxed_samples, vmin=0)\n",
        "axs[2].imshow(g2_samples, vmin=0)\n",
        "axs[3].imshow(g2_relaxed_samples, vmin=0)"
      ]
    },
    {
      "cell_type": "markdown",
      "metadata": {
        "id": "CAwhvZ1Wihls"
      },
      "source": [
        "If we simultaneously draw relaxed samples from $p$ and $q$, again using the same exogenous noise, we can obtain a differentiable estimate of the implicit coupling between them (shown only for gadget 2):"
      ]
    },
    {
      "cell_type": "code",
      "execution_count": null,
      "metadata": {
        "colab": {
          "height": 483
        },
        "executionInfo": {
          "elapsed": 3377,
          "status": "ok",
          "timestamp": 1633467266998,
          "user": {
            "displayName": "",
            "photoUrl": "",
            "userId": ""
          },
          "user_tz": 240
        },
        "id": "1uLsfU7VhyTS",
        "outputId": "dc0bd9a5-4fc4-4ae3-98bb-e7c3422d2138"
      },
      "outputs": [
        {
          "data": {
            "image/png": "[encoded data removed]",
            "text/plain": [
              "\u003cFigure size 1600x800 with 32 Axes\u003e"
            ]
          },
          "metadata": {},
          "output_type": "display_data"
        }
      ],
      "source": [
        "def gen_soft_pair(key):\n",
        "  soft_x = gadget_2_at_init.sample_relaxed(p_logits, key)\n",
        "  soft_y = gadget_2_at_init.sample_relaxed(q_logits, key)\n",
        "  return (soft_x[:, None] * soft_y[None, :])\n",
        "\n",
        "soft_pairs = jax.vmap(gen_soft_pair)(jax.random.split(jax.random.PRNGKey(1), 4*8))\n",
        "_, axs = plt.subplots(nrows=4, ncols=8, figsize=(16,8))\n",
        "for i in range(4):\n",
        "  for j in range(8):\n",
        "    axs[i, j].imshow(soft_pairs[np.ravel_multi_index((i,j), (4,8))])"
      ]
    },
    {
      "cell_type": "markdown",
      "metadata": {
        "id": "yhg6POpQkCq1"
      },
      "source": [
        "Over a large number of samples, these soft pairs will tend to approximate a noisier version of the implicit coupling. We can thus use stochastic gradient descent to optimize this coupling to have a better score under our objective of interest."
      ]
    },
    {
      "cell_type": "code",
      "execution_count": null,
      "metadata": {
        "colab": {
          "height": 369
        },
        "executionInfo": {
          "elapsed": 439,
          "status": "ok",
          "timestamp": 1633467267615,
          "user": {
            "displayName": "",
            "photoUrl": "",
            "userId": ""
          },
          "user_tz": 240
        },
        "id": "4qkQugplixMf",
        "outputId": "16d83f26-fee5-4ac6-acce-bedf30ddf587"
      },
      "outputs": [
        {
          "data": {
            "text/plain": [
              "\u003cmatplotlib.image.AxesImage at 0x7f7d1a67a050\u003e"
            ]
          },
          "execution_count": 22,
          "metadata": {},
          "output_type": "execute_result"
        },
        {
          "data": {
            "image/png": "[encoded data removed]",
            "text/plain": [
              "\u003cFigure size 1200x600 with 2 Axes\u003e"
            ]
          },
          "metadata": {},
          "output_type": "display_data"
        }
      ],
      "source": [
        "_, axs = plt.subplots(ncols=2, figsize=(12,6))\n",
        "# True implicit coupling defined by gadget 2\n",
        "axs[0].imshow(g2_init_pq, vmin=0)\n",
        "# Relaxed approximation with gradients\n",
        "axs[1].imshow(jnp.mean(soft_pairs, axis=0), vmin=0)"
      ]
    },
    {
      "cell_type": "markdown",
      "metadata": {
        "id": "r4yefr0hmsed"
      },
      "source": [
        "### Training the gadgets"
      ]
    },
    {
      "cell_type": "markdown",
      "metadata": {
        "id": "brnHS8TNmub2"
      },
      "source": [
        "So far, we have described how to use the gadgets once we know a particular value for $\\theta$. It remains to see how we can *learn* $\\theta$ to optimize an objective of interest.\n",
        "\n",
        "To this end, we provide a training helper class `CouplingExperimentConfig` which allows either of our gadgets to be trained to minimize a particular objective over a distribution of interest. In order to use this, you must provide\n",
        "- a model definition (either gadget 1 or gadget 2)\n",
        "- a function that generates random pairs of logits according to the distribution of interest (this is $\\mathcal{D}$ from Section 3)\n",
        "- a function that takes a pair of logits, and returns a matrix of scores for each pair of counterfactual samples  (this is $g_{l^{(1)}, l^{(2)}}$ from Section 3)\n",
        "- a flag specifying whether it should pass the `transpose` argument during training (True for gadget 1, False otherwise)\n",
        "- hyperparameters that control the training process, such as the batch size, number of samples per iteration, and optimizer.\n",
        "\n",
        "To show how this works, here is an example of training each of our gadgets based on two distance functions:\n",
        "- $g(x, y) = 0\\text{ if }x=y\\text{ else }1$, which encourages our coupling to be closer to a maximal coupling.\n",
        "- $g(x, y) = (x-y)^2$, which encourages our coupling to minimize the variance of the difference between the sampled indices.\n",
        "\n",
        "In both cases, we take the pair of $p$ and $q$ we have used for the rest of this notebook, and perturb it with a small amount of noise, so that it represents a distribution of intervention pairs."
      ]
    },
    {
      "cell_type": "code",
      "execution_count": null,
      "metadata": {
        "id": "BIggP9IwjXzb"
      },
      "outputs": [],
      "source": [
        "def logit_pair_distribution_fn(rng, dim, base_scale=.1, noise_scale=.1):\n",
        "  p_rng, q_rng = jax.random.split(rng, 2)\n",
        "  p_base = jnp.arange(dim) - (dim - 1.0) / 2\n",
        "  q_base = -p_base\n",
        "  p_logits = base_scale * p_base + noise_scale * jax.random.normal(p_rng, (dim,))\n",
        "  q_logits = base_scale * q_base + noise_scale * jax.random.normal(q_rng, (dim,))\n",
        "  return p_logits, q_logits\n",
        "\n",
        "def maximal_coupling_loss_matrix_fn(logits1, logits2):\n",
        "  return 1.0 - jnp.eye(logits1.shape[0])\n",
        "\n",
        "def squared_loss_matrix_fn(logits1, logits2):\n",
        "  seq = jnp.arange(logits1.shape[0]).astype(jnp.float32)\n",
        "  return jnp.square(seq[None, :] - seq[:, None])\n",
        "\n",
        "experiments = []\n",
        "S_dim = 10\n",
        "Z_dim = 100\n",
        "for task_fn in [maximal_coupling_loss_matrix_fn, squared_loss_matrix_fn]:\n",
        "  for gadget in [1, 2]:\n",
        "    ex = experiment_util.CouplingExperimentConfig(\n",
        "      name=f\"Gadget {gadget} example training: {task_fn.__name__}\",\n",
        "      model=(\n",
        "          gadget_1.GadgetOneMLPPredictor(\n",
        "              S_dim=S_dim,\n",
        "              hidden_features=[1024, 1024],\n",
        "              relaxation_temperature=1.0)\n",
        "          if gadget == 1 else\n",
        "          gadget_2.GadgetTwoMLPPredictor(\n",
        "              S_dim=S_dim,\n",
        "              Z_dim=Z_dim,\n",
        "              hidden_features=[1024, 1024],\n",
        "              relaxation_temperature=1.0,\n",
        "              learn_prior=False)\n",
        "      ),\n",
        "      logit_pair_distribution_fn=functools.partial(\n",
        "          logit_pair_distribution_fn,\n",
        "          dim=S_dim,\n",
        "          base_scale=.1,\n",
        "          noise_scale=0.4),\n",
        "      coupling_loss_matrix_fn=task_fn,\n",
        "      inner_num_samples=16,\n",
        "      batch_size=64,\n",
        "      use_transpose=(gadget == 1),\n",
        "      tx=optax.adam(1e-5),\n",
        "      num_steps=2001,\n",
        "      print_every=1000,\n",
        "    )\n",
        "    experiments.append(ex)"
      ]
    },
    {
      "cell_type": "code",
      "execution_count": null,
      "metadata": {
        "executionInfo": {
          "elapsed": 36063,
          "status": "ok",
          "timestamp": 1633467396048,
          "user": {
            "displayName": "",
            "photoUrl": "",
            "userId": ""
          },
          "user_tz": 240
        },
        "id": "P7daAX3BpSnq",
        "outputId": "f97c5a43-4a6b-445f-e5f3-bad99e20e667"
      },
      "outputs": [
        {
          "name": "stdout",
          "output_type": "stream",
          "text": [
            "================================================================================\n",
            "Gadget 1 example training: maximal_coupling_loss_matrix_fn\n",
            "================================================================================\n",
            "0 [0.415093544159971/s]: {'loss': 0.9031264781951904}\n",
            "1 [45.45094384603715/s]: {'loss': 0.8943442106246948}\n",
            "2 [45.701036207328634/s]: {'loss': 0.8932415246963501}\n",
            "4 [88.22684055532183/s]: {'loss': 0.9056380987167358}\n",
            "8 [163.0755832037325/s]: {'loss': 0.8966594934463501}\n",
            "16 [279.7041779200427/s]: {'loss': 0.8993789553642273}\n",
            "32 [440.7141384224386/s]: {'loss': 0.880661129951477}\n",
            "64 [607.2293639411309/s]: {'loss': 0.8530983328819275}\n",
            "128 [769.3632554326954/s]: {'loss': 0.7658456563949585}\n",
            "256 [818.5305475258273/s]: {'loss': 0.7173289060592651}\n",
            "512 [925.5900322568966/s]: {'loss': 0.7053819298744202}\n",
            "1000 [974.601638636276/s]: {'loss': 0.7030174732208252}\n",
            "1024 [536.8336915307206/s]: {'loss': 0.6978696584701538}\n",
            "2000 [943.7588191789362/s]: {'loss': 0.7032415866851807}\n",
            "\n",
            "================================================================================\n",
            "Gadget 2 example training: maximal_coupling_loss_matrix_fn\n",
            "================================================================================\n",
            "0 [0.15267588040440816/s]: {'loss': 0.6873835325241089}\n",
            "1 [41.52899591076962/s]: {'loss': 0.6821764707565308}\n",
            "2 [42.51227942145326/s]: {'loss': 0.6825810074806213}\n",
            "4 [75.77100532923855/s]: {'loss': 0.6895126104354858}\n",
            "8 [124.23426265318967/s]: {'loss': 0.6796748042106628}\n",
            "16 [179.2562090316101/s]: {'loss': 0.69063401222229}\n",
            "32 [227.61035269857314/s]: {'loss': 0.6834642887115479}\n",
            "64 [274.2770077102121/s]: {'loss': 0.6773842573165894}\n",
            "128 [303.1511083204214/s]: {'loss': 0.6704290509223938}\n",
            "256 [313.9746537553263/s]: {'loss': 0.5924296975135803}\n",
            "512 [325.13531606572826/s]: {'loss': 0.5199153423309326}\n",
            "1000 [324.211840584019/s]: {'loss': 0.4943395256996155}\n",
            "1024 [257.6043934109073/s]: {'loss': 0.5035111904144287}\n",
            "2000 [326.2996881707257/s]: {'loss': 0.48912519216537476}\n",
            "\n",
            "================================================================================\n",
            "Gadget 1 example training: squared_loss_matrix_fn\n",
            "================================================================================\n",
            "0 [0.35234441160857927/s]: {'loss': 18.33102035522461}\n",
            "1 [45.48544657962088/s]: {'loss': 17.674468994140625}\n",
            "2 [46.368444326523395/s]: {'loss': 17.70934295654297}\n",
            "4 [88.49115996455546/s]: {'loss': 17.746946334838867}\n",
            "8 [162.9156446334761/s]: {'loss': 17.804309844970703}\n",
            "16 [273.5698142743001/s]: {'loss': 17.33448028564453}\n",
            "32 [428.3289335954454/s]: {'loss': 17.130399703979492}\n",
            "64 [593.1305289300756/s]: {'loss': 16.159088134765625}\n",
            "128 [721.1199415443468/s]: {'loss': 15.209000587463379}\n",
            "256 [817.2197982184282/s]: {'loss': 14.157074928283691}\n",
            "512 [869.5103609173677/s]: {'loss': 14.414009094238281}\n",
            "1000 [918.6410064916413/s]: {'loss': 14.061803817749023}\n",
            "1024 [515.9045510455104/s]: {'loss': 13.972683906555176}\n",
            "2000 [902.2260986624768/s]: {'loss': 13.880500793457031}\n",
            "\n",
            "================================================================================\n",
            "Gadget 2 example training: squared_loss_matrix_fn\n",
            "================================================================================\n",
            "0 [0.14574393236303773/s]: {'loss': 14.06368637084961}\n",
            "1 [41.36068160302935/s]: {'loss': 13.81390380859375}\n",
            "2 [42.62157548166816/s]: {'loss': 13.833062171936035}\n",
            "4 [75.46630441627607/s]: {'loss': 13.81806755065918}\n",
            "8 [122.48825290209535/s]: {'loss': 13.65805435180664}\n",
            "16 [182.24515932803598/s]: {'loss': 14.098180770874023}\n",
            "32 [232.2636449846678/s]: {'loss': 13.913498878479004}\n",
            "64 [276.15964116333856/s]: {'loss': 13.535097122192383}\n",
            "128 [301.6260892331237/s]: {'loss': 12.761720657348633}\n",
            "256 [314.1771331729104/s]: {'loss': 10.483574867248535}\n",
            "512 [324.63152688181145/s]: {'loss': 9.658596992492676}\n",
            "1000 [333.403649942028/s]: {'loss': 8.65296745300293}\n",
            "1024 [260.5791678099745/s]: {'loss': 8.443951606750488}\n",
            "2000 [336.2296773455926/s]: {'loss': 7.785844326019287}\n",
            "\n"
          ]
        }
      ],
      "source": [
        "results = []\n",
        "for ex in experiments:\n",
        "  print(\"=\" * 80)\n",
        "  print(ex.name)\n",
        "  print(\"=\" * 80)\n",
        "  results.append(ex.train(jax.random.PRNGKey(42)))\n",
        "  print()"
      ]
    },
    {
      "cell_type": "code",
      "execution_count": null,
      "metadata": {
        "id": "cjUYS_-opZF3"
      },
      "outputs": [],
      "source": [
        "gadget_1_maximal_theta = results[0].params\n",
        "gadget_1_maximal = experiments[0].model.bind(gadget_1_maximal_theta)\n",
        "\n",
        "gadget_2_maximal_theta = results[1].params\n",
        "gadget_2_maximal = experiments[1].model.bind(gadget_2_maximal_theta)\n",
        "\n",
        "gadget_1_variance_theta = results[2].params\n",
        "gadget_1_variance = experiments[2].model.bind(gadget_1_variance_theta)\n",
        "\n",
        "gadget_2_variance_theta = results[3].params\n",
        "gadget_2_variance = experiments[3].model.bind(gadget_2_variance_theta)"
      ]
    },
    {
      "cell_type": "code",
      "execution_count": null,
      "metadata": {
        "colab": {
          "height": 369
        },
        "executionInfo": {
          "elapsed": 725,
          "status": "ok",
          "timestamp": 1633467397088,
          "user": {
            "displayName": "",
            "photoUrl": "",
            "userId": ""
          },
          "user_tz": 240
        },
        "id": "ClztjoGhp85y",
        "outputId": "234acc21-5c7e-4b6f-b13f-38ed2bfc5c72"
      },
      "outputs": [
        {
          "data": {
            "text/plain": [
              "\u003cmatplotlib.image.AxesImage at 0x7f7d4ffbb890\u003e"
            ]
          },
          "execution_count": 31,
          "metadata": {},
          "output_type": "execute_result"
        },
        {
          "data": {
            "image/png": "[encoded data removed]",
            "text/plain": [
              "\u003cFigure size 1200x600 with 2 Axes\u003e"
            ]
          },
          "metadata": {},
          "output_type": "display_data"
        }
      ],
      "source": [
        "g1_maximal_pq = coupling_util.joint_from_samples(\n",
        "    coupling_util.sampler_from_common_random_numbers(gadget_1_maximal.sample, second_kwargs={\"transpose\": True}),\n",
        "    logits_1=p_logits,\n",
        "    logits_2=q_logits,\n",
        "    rng=jax.random.PRNGKey(42),\n",
        "    num_samples=100_000)\n",
        "g2_maximal_pq = coupling_util.joint_from_samples(\n",
        "    coupling_util.sampler_from_common_random_numbers(gadget_2_maximal.sample),\n",
        "    logits_1=p_logits,\n",
        "    logits_2=q_logits,\n",
        "    rng=jax.random.PRNGKey(42),\n",
        "    num_samples=100_000)\n",
        "\n",
        "_, axs = plt.subplots(ncols=2, figsize=(12,6))\n",
        "axs[0].imshow(g1_maximal_pq, vmin=0)\n",
        "axs[1].imshow(g2_maximal_pq, vmin=0)"
      ]
    },
    {
      "cell_type": "markdown",
      "metadata": {
        "id": "NOMiAsG6qOLa"
      },
      "source": [
        "We see that, after optimizing them to be closer to a maximal coupling, both gadgets have adapted to put more probability mass on the diagonal than they did at initialization time."
      ]
    },
    {
      "cell_type": "code",
      "execution_count": null,
      "metadata": {
        "colab": {
          "height": 369
        },
        "executionInfo": {
          "elapsed": 766,
          "status": "ok",
          "timestamp": 1633467398109,
          "user": {
            "displayName": "",
            "photoUrl": "",
            "userId": ""
          },
          "user_tz": 240
        },
        "id": "xW9NPHMtqFrV",
        "outputId": "0f835d97-fac5-4ba3-8aba-d301d9c8a538"
      },
      "outputs": [
        {
          "data": {
            "text/plain": [
              "\u003cmatplotlib.image.AxesImage at 0x7f7d232911d0\u003e"
            ]
          },
          "execution_count": 32,
          "metadata": {},
          "output_type": "execute_result"
        },
        {
          "data": {
            "image/png": "[encoded data removed]",
            "text/plain": [
              "\u003cFigure size 1200x600 with 2 Axes\u003e"
            ]
          },
          "metadata": {},
          "output_type": "display_data"
        }
      ],
      "source": [
        "g1_variance_pq = coupling_util.joint_from_samples(\n",
        "    coupling_util.sampler_from_common_random_numbers(gadget_1_variance.sample, second_kwargs={\"transpose\": True}),\n",
        "    logits_1=p_logits,\n",
        "    logits_2=q_logits,\n",
        "    rng=jax.random.PRNGKey(42),\n",
        "    num_samples=100_000)\n",
        "g2_variance_pq = coupling_util.joint_from_samples(\n",
        "    coupling_util.sampler_from_common_random_numbers(gadget_2_variance.sample),\n",
        "    logits_1=p_logits,\n",
        "    logits_2=q_logits,\n",
        "    rng=jax.random.PRNGKey(42),\n",
        "    num_samples=100_000)\n",
        "\n",
        "_, axs = plt.subplots(ncols=2, figsize=(12,6))\n",
        "axs[0].imshow(g1_variance_pq, vmin=0)\n",
        "axs[1].imshow(g2_variance_pq, vmin=0)"
      ]
    },
    {
      "cell_type": "markdown",
      "metadata": {
        "id": "RALZewqusJmu"
      },
      "source": [
        "If they are trained to reduce variance, Gadget 2 learns a coupling that shares some similarity with the inverse CDF coupling, whereas Gadget 1 again pulls a large amount of mass onto the diagonal.\n",
        "\n"
      ]
    },
    {
      "cell_type": "code",
      "execution_count": null,
      "metadata": {
        "id": "z5ZMeLfetK5d"
      },
      "outputs": [],
      "source": [
        ""
      ]
    }
  ],
  "metadata": {
    "colab": {
      "collapsed_sections": [
        "JndnmDMp66FL"
      ],
      "last_runtime": {
        "build_target": "//learning/deepmind/public/tools/ml_python:ml_notebook",
        "kind": "private"
      },
      "name": "tutorial.ipynb",
      "provenance": [],
      "toc_visible": true
    },
    "kernelspec": {
      "display_name": "Python 3",
      "name": "python3"
    },
    "language_info": {
      "name": "python"
    }
  },
  "nbformat": 4,
  "nbformat_minor": 0
}
